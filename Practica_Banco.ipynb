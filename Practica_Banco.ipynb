{
  "nbformat": 4,
  "nbformat_minor": 0,
  "metadata": {
    "colab": {
      "provenance": [],
      "authorship_tag": "ABX9TyOY24gukLCM8Yz0dzAvAxZd",
      "include_colab_link": true
    },
    "kernelspec": {
      "name": "python3",
      "display_name": "Python 3"
    },
    "language_info": {
      "name": "python"
    }
  },
  "cells": [
    {
      "cell_type": "markdown",
      "metadata": {
        "id": "view-in-github",
        "colab_type": "text"
      },
      "source": [
        "<a href=\"https://colab.research.google.com/github/Enrique474747/test-repo-bueno/blob/main/Practica_Banco.ipynb\" target=\"_parent\"><img src=\"https://colab.research.google.com/assets/colab-badge.svg\" alt=\"Open In Colab\"/></a>"
      ]
    },
    {
      "cell_type": "markdown",
      "source": [],
      "metadata": {
        "id": "UsXxFTjb7K9r"
      }
    },
    {
      "cell_type": "code",
      "execution_count": 1,
      "metadata": {
        "colab": {
          "base_uri": "https://localhost:8080/"
        },
        "id": "D9mo6noN51MD",
        "outputId": "2419efb2-2c62-4fe4-a015-7ac70408259b"
      },
      "outputs": [
        {
          "output_type": "stream",
          "name": "stdout",
          "text": [
            "Downloading...\n",
            "From: https://drive.google.com/uc?id=1puf9UBuzaVqMW3ZMMXhd626E5yVJd_QX\n",
            "To: /content/data_berka.db\n",
            "100% 70.2M/70.2M [00:00<00:00, 94.1MB/s]\n"
          ]
        }
      ],
      "source": [
        "!gdown 1puf9UBuzaVqMW3ZMMXhd626E5yVJd_QX"
      ]
    },
    {
      "cell_type": "markdown",
      "source": [
        "1.1) Cargamos la extensión sql(nos permite ejecutar comandos sql directamente en colab)"
      ],
      "metadata": {
        "id": "fZUPmQMK8FyD"
      }
    },
    {
      "cell_type": "code",
      "source": [
        "%config SqlMagic.style = '_DEPRECATED_DEFAULT'\n",
        "%load_ext sql"
      ],
      "metadata": {
        "colab": {
          "base_uri": "https://localhost:8080/"
        },
        "id": "y71Ebqvn8b0E",
        "outputId": "fd89ded8-0631-4f86-a9ef-ef56eb58a85f"
      },
      "execution_count": 5,
      "outputs": [
        {
          "output_type": "stream",
          "name": "stdout",
          "text": [
            "The sql extension is already loaded. To reload it, use:\n",
            "  %reload_ext sql\n"
          ]
        }
      ]
    },
    {
      "cell_type": "code",
      "source": [],
      "metadata": {
        "id": "DHWBlPab8oyy"
      },
      "execution_count": null,
      "outputs": []
    },
    {
      "cell_type": "markdown",
      "source": [
        "1.2) Conectar a la Base de Datos"
      ],
      "metadata": {
        "id": "nbVIe07q8jMC"
      }
    },
    {
      "cell_type": "code",
      "source": [
        "%sql sqlite:///data_berka.db"
      ],
      "metadata": {
        "id": "tiAD5OGq8qkh"
      },
      "execution_count": 3,
      "outputs": []
    },
    {
      "cell_type": "markdown",
      "source": [
        "1.3) Comprobamos el esquema de la Base de Datos. Para ejecutar comandos sql, se debe añadir %%sql comando O EN MÚLTIPLES LÍNEAS %%sql comando_linea1 comando_linea2"
      ],
      "metadata": {
        "id": "xW6NZYWK8yuR"
      }
    },
    {
      "cell_type": "code",
      "source": [
        "%%sql\n",
        "SELECT name, type\n",
        "FROM sqlite_master\n",
        "WHERE type = \"table\""
      ],
      "metadata": {
        "colab": {
          "base_uri": "https://localhost:8080/",
          "height": 246
        },
        "id": "_fFwc6Mu9CWB",
        "outputId": "1cb3fbe0-5956-4c34-dfd7-52c919d02e20"
      },
      "execution_count": 6,
      "outputs": [
        {
          "output_type": "stream",
          "name": "stdout",
          "text": [
            " * sqlite:///data_berka.db\n",
            "Done.\n"
          ]
        },
        {
          "output_type": "execute_result",
          "data": {
            "text/plain": [
              "[('DISTRICT', 'table'),\n",
              " ('ACCOUNT', 'table'),\n",
              " ('TRANS', 'table'),\n",
              " ('CLIENT', 'table'),\n",
              " ('DISPOSITION', 'table'),\n",
              " ('CREDIT_CARD', 'table'),\n",
              " ('LOAN', 'table'),\n",
              " ('PERMANENT_ORDER', 'table')]"
            ],
            "text/html": [
              "<table>\n",
              "    <thead>\n",
              "        <tr>\n",
              "            <th>name</th>\n",
              "            <th>type</th>\n",
              "        </tr>\n",
              "    </thead>\n",
              "    <tbody>\n",
              "        <tr>\n",
              "            <td>DISTRICT</td>\n",
              "            <td>table</td>\n",
              "        </tr>\n",
              "        <tr>\n",
              "            <td>ACCOUNT</td>\n",
              "            <td>table</td>\n",
              "        </tr>\n",
              "        <tr>\n",
              "            <td>TRANS</td>\n",
              "            <td>table</td>\n",
              "        </tr>\n",
              "        <tr>\n",
              "            <td>CLIENT</td>\n",
              "            <td>table</td>\n",
              "        </tr>\n",
              "        <tr>\n",
              "            <td>DISPOSITION</td>\n",
              "            <td>table</td>\n",
              "        </tr>\n",
              "        <tr>\n",
              "            <td>CREDIT_CARD</td>\n",
              "            <td>table</td>\n",
              "        </tr>\n",
              "        <tr>\n",
              "            <td>LOAN</td>\n",
              "            <td>table</td>\n",
              "        </tr>\n",
              "        <tr>\n",
              "            <td>PERMANENT_ORDER</td>\n",
              "            <td>table</td>\n",
              "        </tr>\n",
              "    </tbody>\n",
              "</table>"
            ]
          },
          "metadata": {},
          "execution_count": 6
        }
      ]
    },
    {
      "cell_type": "markdown",
      "source": [],
      "metadata": {
        "id": "Tith8u3OA37I"
      }
    },
    {
      "cell_type": "markdown",
      "source": [
        "# 2) Ejercicios"
      ],
      "metadata": {
        "id": "bUrr3CenAr2B"
      }
    },
    {
      "cell_type": "markdown",
      "source": [
        "2.1) Muestre los datos de la tabla cliente"
      ],
      "metadata": {
        "id": "MHjvg5LgA73Z"
      }
    },
    {
      "cell_type": "code",
      "source": [
        "%sql SELECT * FROM CLIENT LIMIT 5"
      ],
      "metadata": {
        "colab": {
          "base_uri": "https://localhost:8080/",
          "height": 182
        },
        "id": "Yptop35IBA2Q",
        "outputId": "d917c141-21dc-4ac2-fb24-aa464ae2a9f5"
      },
      "execution_count": 7,
      "outputs": [
        {
          "output_type": "stream",
          "name": "stdout",
          "text": [
            " * sqlite:///data_berka.db\n",
            "Done.\n"
          ]
        },
        {
          "output_type": "execute_result",
          "data": {
            "text/plain": [
              "[(1, '706213', 18),\n",
              " (2, '450204', 1),\n",
              " (3, '406009', 1),\n",
              " (4, '561201', 5),\n",
              " (5, '605703', 5)]"
            ],
            "text/html": [
              "<table>\n",
              "    <thead>\n",
              "        <tr>\n",
              "            <th>client_id</th>\n",
              "            <th>birth_number</th>\n",
              "            <th>district_id</th>\n",
              "        </tr>\n",
              "    </thead>\n",
              "    <tbody>\n",
              "        <tr>\n",
              "            <td>1</td>\n",
              "            <td>706213</td>\n",
              "            <td>18</td>\n",
              "        </tr>\n",
              "        <tr>\n",
              "            <td>2</td>\n",
              "            <td>450204</td>\n",
              "            <td>1</td>\n",
              "        </tr>\n",
              "        <tr>\n",
              "            <td>3</td>\n",
              "            <td>406009</td>\n",
              "            <td>1</td>\n",
              "        </tr>\n",
              "        <tr>\n",
              "            <td>4</td>\n",
              "            <td>561201</td>\n",
              "            <td>5</td>\n",
              "        </tr>\n",
              "        <tr>\n",
              "            <td>5</td>\n",
              "            <td>605703</td>\n",
              "            <td>5</td>\n",
              "        </tr>\n",
              "    </tbody>\n",
              "</table>"
            ]
          },
          "metadata": {},
          "execution_count": 7
        }
      ]
    },
    {
      "cell_type": "markdown",
      "source": [
        "2.2) lISTE TODOS LOS CLIENTES CON CUENTAS ACTIVAS Y PRÉSTAMOS INCLUYENDO DINERO PRESTADO Y SALDOS DE CUENTA"
      ],
      "metadata": {
        "id": "5iQPGlBSBMu5"
      }
    },
    {
      "cell_type": "code",
      "source": [
        "%sql SELECT * FROM DISTRICT LIMIT 5"
      ],
      "metadata": {
        "colab": {
          "base_uri": "https://localhost:8080/",
          "height": 182
        },
        "id": "cCe5dqTpA0pZ",
        "outputId": "2c50a8fa-a308-432d-8fea-d23ae9df8169"
      },
      "execution_count": 9,
      "outputs": [
        {
          "output_type": "stream",
          "name": "stdout",
          "text": [
            " * sqlite:///data_berka.db\n",
            "Done.\n"
          ]
        },
        {
          "output_type": "execute_result",
          "data": {
            "text/plain": [
              "[(1, 'Hl.m. Praha', 'Prague', 1204953, 0, 0, 0, 1, 1, 100.0, 12541, 0.29, 0.43, 167, 85677, 99107),\n",
              " (2, 'Benesov', 'central Bohemia', 88884, 80, 26, 6, 2, 5, 46.7, 8507, 1.67, 1.85, 132, 2159, 2674),\n",
              " (3, 'Beroun', 'central Bohemia', 75232, 55, 26, 4, 1, 5, 41.7, 8980, 1.95, 2.21, 111, 2824, 2813),\n",
              " (4, 'Kladno', 'central Bohemia', 149893, 63, 29, 6, 2, 6, 67.4, 9753, 4.64, 5.05, 109, 5244, 5892),\n",
              " (5, 'Kolin', 'central Bohemia', 95616, 65, 30, 4, 1, 6, 51.4, 9307, 3.85, 4.43, 118, 2616, 3040)]"
            ],
            "text/html": [
              "<table>\n",
              "    <thead>\n",
              "        <tr>\n",
              "            <th>A1</th>\n",
              "            <th>A2</th>\n",
              "            <th>A3</th>\n",
              "            <th>A4</th>\n",
              "            <th>A5</th>\n",
              "            <th>A6</th>\n",
              "            <th>A7</th>\n",
              "            <th>A8</th>\n",
              "            <th>A9</th>\n",
              "            <th>A10</th>\n",
              "            <th>A11</th>\n",
              "            <th>A12</th>\n",
              "            <th>A13</th>\n",
              "            <th>A14</th>\n",
              "            <th>A15</th>\n",
              "            <th>A16</th>\n",
              "        </tr>\n",
              "    </thead>\n",
              "    <tbody>\n",
              "        <tr>\n",
              "            <td>1</td>\n",
              "            <td>Hl.m. Praha</td>\n",
              "            <td>Prague</td>\n",
              "            <td>1204953</td>\n",
              "            <td>0</td>\n",
              "            <td>0</td>\n",
              "            <td>0</td>\n",
              "            <td>1</td>\n",
              "            <td>1</td>\n",
              "            <td>100.0</td>\n",
              "            <td>12541</td>\n",
              "            <td>0.29</td>\n",
              "            <td>0.43</td>\n",
              "            <td>167</td>\n",
              "            <td>85677</td>\n",
              "            <td>99107</td>\n",
              "        </tr>\n",
              "        <tr>\n",
              "            <td>2</td>\n",
              "            <td>Benesov</td>\n",
              "            <td>central Bohemia</td>\n",
              "            <td>88884</td>\n",
              "            <td>80</td>\n",
              "            <td>26</td>\n",
              "            <td>6</td>\n",
              "            <td>2</td>\n",
              "            <td>5</td>\n",
              "            <td>46.7</td>\n",
              "            <td>8507</td>\n",
              "            <td>1.67</td>\n",
              "            <td>1.85</td>\n",
              "            <td>132</td>\n",
              "            <td>2159</td>\n",
              "            <td>2674</td>\n",
              "        </tr>\n",
              "        <tr>\n",
              "            <td>3</td>\n",
              "            <td>Beroun</td>\n",
              "            <td>central Bohemia</td>\n",
              "            <td>75232</td>\n",
              "            <td>55</td>\n",
              "            <td>26</td>\n",
              "            <td>4</td>\n",
              "            <td>1</td>\n",
              "            <td>5</td>\n",
              "            <td>41.7</td>\n",
              "            <td>8980</td>\n",
              "            <td>1.95</td>\n",
              "            <td>2.21</td>\n",
              "            <td>111</td>\n",
              "            <td>2824</td>\n",
              "            <td>2813</td>\n",
              "        </tr>\n",
              "        <tr>\n",
              "            <td>4</td>\n",
              "            <td>Kladno</td>\n",
              "            <td>central Bohemia</td>\n",
              "            <td>149893</td>\n",
              "            <td>63</td>\n",
              "            <td>29</td>\n",
              "            <td>6</td>\n",
              "            <td>2</td>\n",
              "            <td>6</td>\n",
              "            <td>67.4</td>\n",
              "            <td>9753</td>\n",
              "            <td>4.64</td>\n",
              "            <td>5.05</td>\n",
              "            <td>109</td>\n",
              "            <td>5244</td>\n",
              "            <td>5892</td>\n",
              "        </tr>\n",
              "        <tr>\n",
              "            <td>5</td>\n",
              "            <td>Kolin</td>\n",
              "            <td>central Bohemia</td>\n",
              "            <td>95616</td>\n",
              "            <td>65</td>\n",
              "            <td>30</td>\n",
              "            <td>4</td>\n",
              "            <td>1</td>\n",
              "            <td>6</td>\n",
              "            <td>51.4</td>\n",
              "            <td>9307</td>\n",
              "            <td>3.85</td>\n",
              "            <td>4.43</td>\n",
              "            <td>118</td>\n",
              "            <td>2616</td>\n",
              "            <td>3040</td>\n",
              "        </tr>\n",
              "    </tbody>\n",
              "</table>"
            ]
          },
          "metadata": {},
          "execution_count": 9
        }
      ]
    },
    {
      "cell_type": "code",
      "source": [
        "%sql SELECT * FROM Account LIMIT 5"
      ],
      "metadata": {
        "colab": {
          "base_uri": "https://localhost:8080/",
          "height": 182
        },
        "id": "jHoQa97aCpjg",
        "outputId": "0744362d-67fd-4414-d3fe-e62e8f411a77"
      },
      "execution_count": 10,
      "outputs": [
        {
          "output_type": "stream",
          "name": "stdout",
          "text": [
            " * sqlite:///data_berka.db\n",
            "Done.\n"
          ]
        },
        {
          "output_type": "execute_result",
          "data": {
            "text/plain": [
              "[(576, 55, 'monthly', 930101),\n",
              " (3818, 74, 'monthly', 930101),\n",
              " (704, 55, 'monthly', 930101),\n",
              " (2378, 16, 'monthly', 930101),\n",
              " (2632, 24, 'monthly', 930102)]"
            ],
            "text/html": [
              "<table>\n",
              "    <thead>\n",
              "        <tr>\n",
              "            <th>account_id</th>\n",
              "            <th>district_id</th>\n",
              "            <th>frequency</th>\n",
              "            <th>date</th>\n",
              "        </tr>\n",
              "    </thead>\n",
              "    <tbody>\n",
              "        <tr>\n",
              "            <td>576</td>\n",
              "            <td>55</td>\n",
              "            <td>monthly</td>\n",
              "            <td>930101</td>\n",
              "        </tr>\n",
              "        <tr>\n",
              "            <td>3818</td>\n",
              "            <td>74</td>\n",
              "            <td>monthly</td>\n",
              "            <td>930101</td>\n",
              "        </tr>\n",
              "        <tr>\n",
              "            <td>704</td>\n",
              "            <td>55</td>\n",
              "            <td>monthly</td>\n",
              "            <td>930101</td>\n",
              "        </tr>\n",
              "        <tr>\n",
              "            <td>2378</td>\n",
              "            <td>16</td>\n",
              "            <td>monthly</td>\n",
              "            <td>930101</td>\n",
              "        </tr>\n",
              "        <tr>\n",
              "            <td>2632</td>\n",
              "            <td>24</td>\n",
              "            <td>monthly</td>\n",
              "            <td>930102</td>\n",
              "        </tr>\n",
              "    </tbody>\n",
              "</table>"
            ]
          },
          "metadata": {},
          "execution_count": 10
        }
      ]
    },
    {
      "cell_type": "code",
      "source": [
        "%sql SELECT * FROM trans LIMIT 5"
      ],
      "metadata": {
        "colab": {
          "base_uri": "https://localhost:8080/",
          "height": 182
        },
        "id": "H7MrNAsRCzw4",
        "outputId": "a039857b-206e-45f6-861e-19421209b698"
      },
      "execution_count": 11,
      "outputs": [
        {
          "output_type": "stream",
          "name": "stdout",
          "text": [
            " * sqlite:///data_berka.db\n",
            "Done.\n"
          ]
        },
        {
          "output_type": "execute_result",
          "data": {
            "text/plain": [
              "[(695247, 2378, 930101, 'PRIJEM', 'VKLAD', 700.0, 700.0, None, None, None),\n",
              " (171812, 576, 930101, 'PRIJEM', 'VKLAD', 900.0, 900.0, None, None, None),\n",
              " (207264, 704, 930101, 'PRIJEM', 'VKLAD', 1000.0, 1000.0, None, None, None),\n",
              " (1117247, 3818, 930101, 'PRIJEM', 'VKLAD', 600.0, 600.0, None, None, None),\n",
              " (579373, 1972, 930102, 'PRIJEM', 'VKLAD', 400.0, 400.0, None, None, None)]"
            ],
            "text/html": [
              "<table>\n",
              "    <thead>\n",
              "        <tr>\n",
              "            <th>trans_id</th>\n",
              "            <th>account_id</th>\n",
              "            <th>date</th>\n",
              "            <th>type</th>\n",
              "            <th>operation</th>\n",
              "            <th>amount</th>\n",
              "            <th>balance</th>\n",
              "            <th>k_symbol</th>\n",
              "            <th>bank</th>\n",
              "            <th>account</th>\n",
              "        </tr>\n",
              "    </thead>\n",
              "    <tbody>\n",
              "        <tr>\n",
              "            <td>695247</td>\n",
              "            <td>2378</td>\n",
              "            <td>930101</td>\n",
              "            <td>PRIJEM</td>\n",
              "            <td>VKLAD</td>\n",
              "            <td>700.0</td>\n",
              "            <td>700.0</td>\n",
              "            <td>None</td>\n",
              "            <td>None</td>\n",
              "            <td>None</td>\n",
              "        </tr>\n",
              "        <tr>\n",
              "            <td>171812</td>\n",
              "            <td>576</td>\n",
              "            <td>930101</td>\n",
              "            <td>PRIJEM</td>\n",
              "            <td>VKLAD</td>\n",
              "            <td>900.0</td>\n",
              "            <td>900.0</td>\n",
              "            <td>None</td>\n",
              "            <td>None</td>\n",
              "            <td>None</td>\n",
              "        </tr>\n",
              "        <tr>\n",
              "            <td>207264</td>\n",
              "            <td>704</td>\n",
              "            <td>930101</td>\n",
              "            <td>PRIJEM</td>\n",
              "            <td>VKLAD</td>\n",
              "            <td>1000.0</td>\n",
              "            <td>1000.0</td>\n",
              "            <td>None</td>\n",
              "            <td>None</td>\n",
              "            <td>None</td>\n",
              "        </tr>\n",
              "        <tr>\n",
              "            <td>1117247</td>\n",
              "            <td>3818</td>\n",
              "            <td>930101</td>\n",
              "            <td>PRIJEM</td>\n",
              "            <td>VKLAD</td>\n",
              "            <td>600.0</td>\n",
              "            <td>600.0</td>\n",
              "            <td>None</td>\n",
              "            <td>None</td>\n",
              "            <td>None</td>\n",
              "        </tr>\n",
              "        <tr>\n",
              "            <td>579373</td>\n",
              "            <td>1972</td>\n",
              "            <td>930102</td>\n",
              "            <td>PRIJEM</td>\n",
              "            <td>VKLAD</td>\n",
              "            <td>400.0</td>\n",
              "            <td>400.0</td>\n",
              "            <td>None</td>\n",
              "            <td>None</td>\n",
              "            <td>None</td>\n",
              "        </tr>\n",
              "    </tbody>\n",
              "</table>"
            ]
          },
          "metadata": {},
          "execution_count": 11
        }
      ]
    },
    {
      "cell_type": "code",
      "source": [
        "%sql SELECT * FROM disposition LIMIT 5"
      ],
      "metadata": {
        "colab": {
          "base_uri": "https://localhost:8080/",
          "height": 182
        },
        "id": "Hl9H4_X6DDWR",
        "outputId": "6a21e303-f93e-4fd4-a256-8e268db7af35"
      },
      "execution_count": 13,
      "outputs": [
        {
          "output_type": "stream",
          "name": "stdout",
          "text": [
            " * sqlite:///data_berka.db\n",
            "Done.\n"
          ]
        },
        {
          "output_type": "execute_result",
          "data": {
            "text/plain": [
              "[(1, 1, 1, 'OWNER'),\n",
              " (2, 2, 2, 'OWNER'),\n",
              " (3, 3, 2, 'DISPONENT'),\n",
              " (4, 4, 3, 'OWNER'),\n",
              " (5, 5, 3, 'DISPONENT')]"
            ],
            "text/html": [
              "<table>\n",
              "    <thead>\n",
              "        <tr>\n",
              "            <th>disp_id</th>\n",
              "            <th>client_id</th>\n",
              "            <th>account_id</th>\n",
              "            <th>type</th>\n",
              "        </tr>\n",
              "    </thead>\n",
              "    <tbody>\n",
              "        <tr>\n",
              "            <td>1</td>\n",
              "            <td>1</td>\n",
              "            <td>1</td>\n",
              "            <td>OWNER</td>\n",
              "        </tr>\n",
              "        <tr>\n",
              "            <td>2</td>\n",
              "            <td>2</td>\n",
              "            <td>2</td>\n",
              "            <td>OWNER</td>\n",
              "        </tr>\n",
              "        <tr>\n",
              "            <td>3</td>\n",
              "            <td>3</td>\n",
              "            <td>2</td>\n",
              "            <td>DISPONENT</td>\n",
              "        </tr>\n",
              "        <tr>\n",
              "            <td>4</td>\n",
              "            <td>4</td>\n",
              "            <td>3</td>\n",
              "            <td>OWNER</td>\n",
              "        </tr>\n",
              "        <tr>\n",
              "            <td>5</td>\n",
              "            <td>5</td>\n",
              "            <td>3</td>\n",
              "            <td>DISPONENT</td>\n",
              "        </tr>\n",
              "    </tbody>\n",
              "</table>"
            ]
          },
          "metadata": {},
          "execution_count": 13
        }
      ]
    },
    {
      "cell_type": "code",
      "source": [
        "%sql SELECT * FROM CREDIT_CARD limit 5"
      ],
      "metadata": {
        "colab": {
          "base_uri": "https://localhost:8080/",
          "height": 182
        },
        "id": "YMiUp_KZDTHQ",
        "outputId": "91c80a47-669f-4ee0-aa66-0a8a5bde961a"
      },
      "execution_count": 14,
      "outputs": [
        {
          "output_type": "stream",
          "name": "stdout",
          "text": [
            " * sqlite:///data_berka.db\n",
            "Done.\n"
          ]
        },
        {
          "output_type": "execute_result",
          "data": {
            "text/plain": [
              "[(1005, 9285, 'classic', '931107 00:00:00'),\n",
              " (104, 588, 'classic', '940119 00:00:00'),\n",
              " (747, 4915, 'classic', '940205 00:00:00'),\n",
              " (70, 439, 'classic', '940208 00:00:00'),\n",
              " (577, 3687, 'classic', '940215 00:00:00')]"
            ],
            "text/html": [
              "<table>\n",
              "    <thead>\n",
              "        <tr>\n",
              "            <th>card_id</th>\n",
              "            <th>disp_id</th>\n",
              "            <th>type</th>\n",
              "            <th>issued</th>\n",
              "        </tr>\n",
              "    </thead>\n",
              "    <tbody>\n",
              "        <tr>\n",
              "            <td>1005</td>\n",
              "            <td>9285</td>\n",
              "            <td>classic</td>\n",
              "            <td>931107 00:00:00</td>\n",
              "        </tr>\n",
              "        <tr>\n",
              "            <td>104</td>\n",
              "            <td>588</td>\n",
              "            <td>classic</td>\n",
              "            <td>940119 00:00:00</td>\n",
              "        </tr>\n",
              "        <tr>\n",
              "            <td>747</td>\n",
              "            <td>4915</td>\n",
              "            <td>classic</td>\n",
              "            <td>940205 00:00:00</td>\n",
              "        </tr>\n",
              "        <tr>\n",
              "            <td>70</td>\n",
              "            <td>439</td>\n",
              "            <td>classic</td>\n",
              "            <td>940208 00:00:00</td>\n",
              "        </tr>\n",
              "        <tr>\n",
              "            <td>577</td>\n",
              "            <td>3687</td>\n",
              "            <td>classic</td>\n",
              "            <td>940215 00:00:00</td>\n",
              "        </tr>\n",
              "    </tbody>\n",
              "</table>"
            ]
          },
          "metadata": {},
          "execution_count": 14
        }
      ]
    },
    {
      "cell_type": "code",
      "source": [
        "%sql SELECT* FROM LOAN LIMIT 5"
      ],
      "metadata": {
        "colab": {
          "base_uri": "https://localhost:8080/",
          "height": 182
        },
        "id": "uIe9dYMLDkOD",
        "outputId": "1c6c3745-b4db-499a-a036-4b87d6ae4475"
      },
      "execution_count": 15,
      "outputs": [
        {
          "output_type": "stream",
          "name": "stdout",
          "text": [
            " * sqlite:///data_berka.db\n",
            "Done.\n"
          ]
        },
        {
          "output_type": "execute_result",
          "data": {
            "text/plain": [
              "[(5314, 1787, 930705, 96396, 12, 8033, 'B'),\n",
              " (5316, 1801, 930711, 165960, 36, 4610, 'A'),\n",
              " (6863, 9188, 930728, 127080, 60, 2118, 'A'),\n",
              " (5325, 1843, 930803, 105804, 36, 2939, 'A'),\n",
              " (7240, 11013, 930906, 274740, 60, 4579, 'A')]"
            ],
            "text/html": [
              "<table>\n",
              "    <thead>\n",
              "        <tr>\n",
              "            <th>loan_id</th>\n",
              "            <th>account_id</th>\n",
              "            <th>date</th>\n",
              "            <th>amount</th>\n",
              "            <th>duration</th>\n",
              "            <th>payments</th>\n",
              "            <th>status</th>\n",
              "        </tr>\n",
              "    </thead>\n",
              "    <tbody>\n",
              "        <tr>\n",
              "            <td>5314</td>\n",
              "            <td>1787</td>\n",
              "            <td>930705</td>\n",
              "            <td>96396</td>\n",
              "            <td>12</td>\n",
              "            <td>8033</td>\n",
              "            <td>B</td>\n",
              "        </tr>\n",
              "        <tr>\n",
              "            <td>5316</td>\n",
              "            <td>1801</td>\n",
              "            <td>930711</td>\n",
              "            <td>165960</td>\n",
              "            <td>36</td>\n",
              "            <td>4610</td>\n",
              "            <td>A</td>\n",
              "        </tr>\n",
              "        <tr>\n",
              "            <td>6863</td>\n",
              "            <td>9188</td>\n",
              "            <td>930728</td>\n",
              "            <td>127080</td>\n",
              "            <td>60</td>\n",
              "            <td>2118</td>\n",
              "            <td>A</td>\n",
              "        </tr>\n",
              "        <tr>\n",
              "            <td>5325</td>\n",
              "            <td>1843</td>\n",
              "            <td>930803</td>\n",
              "            <td>105804</td>\n",
              "            <td>36</td>\n",
              "            <td>2939</td>\n",
              "            <td>A</td>\n",
              "        </tr>\n",
              "        <tr>\n",
              "            <td>7240</td>\n",
              "            <td>11013</td>\n",
              "            <td>930906</td>\n",
              "            <td>274740</td>\n",
              "            <td>60</td>\n",
              "            <td>4579</td>\n",
              "            <td>A</td>\n",
              "        </tr>\n",
              "    </tbody>\n",
              "</table>"
            ]
          },
          "metadata": {},
          "execution_count": 15
        }
      ]
    },
    {
      "cell_type": "code",
      "source": [
        "%sql SELECT * FROM PERMANENT_ORDER LIMIT 5"
      ],
      "metadata": {
        "colab": {
          "base_uri": "https://localhost:8080/",
          "height": 182
        },
        "id": "OCIjsDkaD6TZ",
        "outputId": "009d8399-6ae7-4017-9f60-2ee83895def0"
      },
      "execution_count": 17,
      "outputs": [
        {
          "output_type": "stream",
          "name": "stdout",
          "text": [
            " * sqlite:///data_berka.db\n",
            "Done.\n"
          ]
        },
        {
          "output_type": "execute_result",
          "data": {
            "text/plain": [
              "[(29401, 1, 'YZ', '87144583', 2452, 'SIPO'),\n",
              " (29402, 2, 'ST', '89597016', 3372.7, 'UVER'),\n",
              " (29403, 2, 'QR', '13943797', 7266, 'SIPO'),\n",
              " (29404, 3, 'WX', '83084338', 1135, 'SIPO'),\n",
              " (29405, 3, 'CD', '24485939', 327, ' ')]"
            ],
            "text/html": [
              "<table>\n",
              "    <thead>\n",
              "        <tr>\n",
              "            <th>order_id</th>\n",
              "            <th>account_id</th>\n",
              "            <th>bank_to</th>\n",
              "            <th>account_to</th>\n",
              "            <th>amount</th>\n",
              "            <th>k_symbol</th>\n",
              "        </tr>\n",
              "    </thead>\n",
              "    <tbody>\n",
              "        <tr>\n",
              "            <td>29401</td>\n",
              "            <td>1</td>\n",
              "            <td>YZ</td>\n",
              "            <td>87144583</td>\n",
              "            <td>2452</td>\n",
              "            <td>SIPO</td>\n",
              "        </tr>\n",
              "        <tr>\n",
              "            <td>29402</td>\n",
              "            <td>2</td>\n",
              "            <td>ST</td>\n",
              "            <td>89597016</td>\n",
              "            <td>3372.7</td>\n",
              "            <td>UVER</td>\n",
              "        </tr>\n",
              "        <tr>\n",
              "            <td>29403</td>\n",
              "            <td>2</td>\n",
              "            <td>QR</td>\n",
              "            <td>13943797</td>\n",
              "            <td>7266</td>\n",
              "            <td>SIPO</td>\n",
              "        </tr>\n",
              "        <tr>\n",
              "            <td>29404</td>\n",
              "            <td>3</td>\n",
              "            <td>WX</td>\n",
              "            <td>83084338</td>\n",
              "            <td>1135</td>\n",
              "            <td>SIPO</td>\n",
              "        </tr>\n",
              "        <tr>\n",
              "            <td>29405</td>\n",
              "            <td>3</td>\n",
              "            <td>CD</td>\n",
              "            <td>24485939</td>\n",
              "            <td>327</td>\n",
              "            <td> </td>\n",
              "        </tr>\n",
              "    </tbody>\n",
              "</table>"
            ]
          },
          "metadata": {},
          "execution_count": 17
        }
      ]
    },
    {
      "cell_type": "code",
      "source": [
        "%%sql SELECT c.client_id as CLIENTE, ROUND(SUM(l.amount), 2) as Importe_prestado,\n",
        "ROUND(SUM(CASE\n",
        "    WHEN t.type = 'PRIJEM' THEN t.amount\n",
        "    WHEN t.type = 'VYDAJ' THEN -t.amount\n",
        "    ELSE 0\n",
        "    END), 2) AS balance_cuenta\n",
        "FROM CLIENT c\n",
        "LEFT JOIN disposition d ON d.client_id = c.client_id\n",
        "LEFT JOIN ACCOUNT a ON a.account_id = d.account_id\n",
        "LEFT JOIN LOAN l ON l.account_id = a.account_id\n",
        "LEFT JOIN trans t ON t.account_id = a.account_id\n",
        "WHERE d.type = 'OWNER'\n",
        "group by c.client_id\n",
        "LIMIT 5\n"
      ],
      "metadata": {
        "colab": {
          "base_uri": "https://localhost:8080/",
          "height": 182
        },
        "id": "W4vbzptWERto",
        "outputId": "1f1fa4f4-b26a-4fb1-8b0b-f2230b8abd55"
      },
      "execution_count": 29,
      "outputs": [
        {
          "output_type": "stream",
          "name": "stdout",
          "text": [
            " * sqlite:///data_berka.db\n",
            "Done.\n"
          ]
        },
        {
          "output_type": "execute_result",
          "data": {
            "text/plain": [
              "[(1, None, 13466.5),\n",
              " (2, 38695056.0, 260069.7),\n",
              " (4, None, 51096.2),\n",
              " (6, None, 33720.6),\n",
              " (7, None, 28088.6)]"
            ],
            "text/html": [
              "<table>\n",
              "    <thead>\n",
              "        <tr>\n",
              "            <th>CLIENTE</th>\n",
              "            <th>Importe_prestado</th>\n",
              "            <th>balance_cuenta</th>\n",
              "        </tr>\n",
              "    </thead>\n",
              "    <tbody>\n",
              "        <tr>\n",
              "            <td>1</td>\n",
              "            <td>None</td>\n",
              "            <td>13466.5</td>\n",
              "        </tr>\n",
              "        <tr>\n",
              "            <td>2</td>\n",
              "            <td>38695056.0</td>\n",
              "            <td>260069.7</td>\n",
              "        </tr>\n",
              "        <tr>\n",
              "            <td>4</td>\n",
              "            <td>None</td>\n",
              "            <td>51096.2</td>\n",
              "        </tr>\n",
              "        <tr>\n",
              "            <td>6</td>\n",
              "            <td>None</td>\n",
              "            <td>33720.6</td>\n",
              "        </tr>\n",
              "        <tr>\n",
              "            <td>7</td>\n",
              "            <td>None</td>\n",
              "            <td>28088.6</td>\n",
              "        </tr>\n",
              "    </tbody>\n",
              "</table>"
            ]
          },
          "metadata": {},
          "execution_count": 29
        }
      ]
    },
    {
      "cell_type": "code",
      "source": [
        "%%sql SELECT c.client_id as cliente, COUNT(a.account_id) AS total_cuentas\n",
        "FROM CLIENT c\n",
        "left JOIN disposition d ON d.client_id = c.client_id\n",
        "LEFT JOIN Account a ON a.account_id = d.account_id\n",
        "GROUP BY c.client_id\n",
        "HAVING total_cuentas > 1"
      ],
      "metadata": {
        "colab": {
          "base_uri": "https://localhost:8080/",
          "height": 75
        },
        "id": "5aTYeIa_Tgcu",
        "outputId": "f6c91145-7a26-4fdb-dcbc-01596709c615"
      },
      "execution_count": 35,
      "outputs": [
        {
          "output_type": "stream",
          "name": "stdout",
          "text": [
            " * sqlite:///data_berka.db\n",
            "Done.\n"
          ]
        },
        {
          "output_type": "execute_result",
          "data": {
            "text/plain": [
              "[]"
            ],
            "text/html": [
              "<table>\n",
              "    <thead>\n",
              "        <tr>\n",
              "            <th>cliente</th>\n",
              "            <th>total_cuentas</th>\n",
              "        </tr>\n",
              "    </thead>\n",
              "    <tbody>\n",
              "    </tbody>\n",
              "</table>"
            ]
          },
          "metadata": {},
          "execution_count": 35
        }
      ]
    },
    {
      "cell_type": "code",
      "source": [],
      "metadata": {
        "id": "B8O_YeFcWSxl"
      },
      "execution_count": null,
      "outputs": []
    }
  ]
}